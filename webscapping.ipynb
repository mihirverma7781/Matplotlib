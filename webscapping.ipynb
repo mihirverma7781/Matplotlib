{
  "nbformat": 4,
  "nbformat_minor": 0,
  "metadata": {
    "colab": {
      "name": "Untitled6.ipynb",
      "provenance": [],
      "authorship_tag": "ABX9TyPc6ehaCiw6QsNrdK6Df/wh",
      "include_colab_link": true
    },
    "kernelspec": {
      "name": "python3",
      "display_name": "Python 3"
    },
    "language_info": {
      "name": "python"
    }
  },
  "cells": [
    {
      "cell_type": "markdown",
      "metadata": {
        "id": "view-in-github",
        "colab_type": "text"
      },
      "source": [
        "<a href=\"https://colab.research.google.com/github/mihirverma7781/Matplotlib/blob/master/webscapping.ipynb\" target=\"_parent\"><img src=\"https://colab.research.google.com/assets/colab-badge.svg\" alt=\"Open In Colab\"/></a>"
      ]
    },
    {
      "cell_type": "code",
      "metadata": {
        "colab": {
          "base_uri": "https://localhost:8080/"
        },
        "id": "eQegoYbsYi54",
        "outputId": "73780c86-bc68-4c4b-dbff-70b932fae321"
      },
      "source": [
        "#pip install bs4\n",
        "#pip install request\n",
        "#pip install html5lib\n",
        "\n",
        "\n",
        "import requests\n",
        "from bs4 import BeautifulSoup\n",
        "url = \"https://codewithharry.com\"\n",
        "\n",
        "#get the html\n",
        "r = requests.get(url)\n",
        "htmlContent = r.content\n",
        "\n",
        "#parsing the html\n",
        "\n",
        "soup = BeautifulSoup(htmlContent,'html.parser')\n",
        "#print(soup)\n",
        "\n",
        "\n",
        "# traversing the tree\n",
        "\n",
        "title = soup.title\n",
        "#print(title)\n",
        "\n",
        "\n",
        "paras = soup.find_all('p')\n",
        "#print(paras)\n",
        "\n",
        "\n",
        "print(soup.find('p'))\n",
        "\n",
        "#to find classes in a tag\n",
        "print(soup.find('p')['class'])\n",
        "\n",
        "#to find all elements repect to classes\n",
        "print(soup.find('p',class_='lead'))"
      ],
      "execution_count": 22,
      "outputs": [
        {
          "output_type": "stream",
          "text": [
            "<p class=\"lead text-muted\">Confused on which course to take? I have got you covered. Browse courses and find out\n",
            "            the best course for you. Its free!<br/>Code With Harry is my attempt to teach basics and those coding\n",
            "            techniques to people in short time which took me ages to learn.</p>\n",
            "['lead', 'text-muted']\n",
            "<p class=\"lead text-muted\">Confused on which course to take? I have got you covered. Browse courses and find out\n",
            "            the best course for you. Its free!<br/>Code With Harry is my attempt to teach basics and those coding\n",
            "            techniques to people in short time which took me ages to learn.</p>\n"
          ],
          "name": "stdout"
        }
      ]
    }
  ]
}