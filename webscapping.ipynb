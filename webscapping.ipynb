{
  "nbformat": 4,
  "nbformat_minor": 0,
  "metadata": {
    "colab": {
      "name": "Untitled6.ipynb",
      "provenance": [],
      "authorship_tag": "ABX9TyOkICeEtDsLnMwpJyOw7tuO",
      "include_colab_link": true
    },
    "kernelspec": {
      "name": "python3",
      "display_name": "Python 3"
    },
    "language_info": {
      "name": "python"
    }
  },
  "cells": [
    {
      "cell_type": "markdown",
      "metadata": {
        "id": "view-in-github",
        "colab_type": "text"
      },
      "source": [
        "<a href=\"https://colab.research.google.com/github/mihirverma7781/Matplotlib/blob/master/webscapping.ipynb\" target=\"_parent\"><img src=\"https://colab.research.google.com/assets/colab-badge.svg\" alt=\"Open In Colab\"/></a>"
      ]
    },
    {
      "cell_type": "code",
      "metadata": {
        "colab": {
          "base_uri": "https://localhost:8080/"
        },
        "id": "eQegoYbsYi54",
        "outputId": "8e0d22b0-bedd-4419-b7c1-cdf7324f5a13"
      },
      "source": [
        "#pip install bs4\n",
        "#pip install request\n",
        "#pip install html5lib\n",
        "\n",
        "\n",
        "import requests\n",
        "from bs4 import BeautifulSoup\n",
        "url = \"https://codewithharry.com\"\n",
        "\n",
        "#get the html\n",
        "r = requests.get(url)\n",
        "htmlContent = r.content\n",
        "\n",
        "#parsing the html\n",
        "\n",
        "soup = BeautifulSoup(htmlContent,'html.parser')\n",
        "#print(soup)\n",
        "\n",
        "\n",
        "# traversing the tree\n",
        "\n",
        "title = soup.title\n",
        "#print(title)\n",
        "\n",
        "\n",
        "paras = soup.find_all('p')\n",
        "#print(paras)\n",
        "\n",
        "\n",
        "#print(soup.find('p'))\n",
        "\n",
        "#to find classes in a tag\n",
        "#print(soup.find('p')['class'])\n",
        "\n",
        "#to find all elements repect to classes\n",
        "#print(soup.find('p',class_='lead'))\n",
        "\n",
        "#to get all the text inside para\n",
        "#print(soup.find('p').get_text())\n",
        "\n",
        "\n",
        "#links = soup.find_all('a')\n",
        "#a = set()\n",
        "#for l in links:\n",
        "#  if (l.get('href')!= '#'):\n",
        "#    linktext = l.get('href')\n",
        "#    a.add('https://codewithharry.com'+linktext)\n",
        "#print(a)\n",
        "\n",
        "\n",
        "allnodes = soup.find(id='navbarSupportedContent')\n",
        "# print(allnodes.contents)\n",
        "\n",
        "#for i in allnodes.children:\n",
        "  #print(i)\n",
        "  \n",
        "#for item in allnodes.stripped_strings:\n",
        " #print(item)\n",
        "\n",
        "print(allnodes.parent)"
      ],
      "execution_count": 28,
      "outputs": [
        {
          "output_type": "stream",
          "text": [
            "<nav class=\"navbar navbar-expand-lg navbar-dark bg-dark\">\n",
            "<a class=\"navbar-brand\" href=\"/\"><img alt=\"My image\" class=\"brandLogo\" src=\"/static/home/img/photo.png\"/></a>\n",
            "<button aria-controls=\"navbarSupportedContent\" aria-expanded=\"false\" aria-label=\"Toggle navigation\" class=\"navbar-toggler\" data-target=\"#navbarSupportedContent\" data-toggle=\"collapse\" type=\"button\">\n",
            "<span class=\"navbar-toggler-icon\"></span>\n",
            "</button>\n",
            "<div class=\"collapse navbar-collapse\" id=\"navbarSupportedContent\">\n",
            "<ul class=\"navbar-nav mr-auto\">\n",
            "<li class=\"nav-item font-weight-bold\">\n",
            "<a class=\"nav-link\" href=\"/\">Home</a>\n",
            "</li>\n",
            "<li class=\"nav-item font-weight-bold\">\n",
            "<a class=\"nav-link\" href=\"/videos\">Videos</a>\n",
            "</li>\n",
            "<li class=\"nav-item font-weight-bold\">\n",
            "<a class=\"nav-link\" href=\"/blog\">Blog</a>\n",
            "</li>\n",
            "<li class=\"nav-item font-weight-bold\">\n",
            "<a class=\"nav-link\" href=\"/contact\">Contact Me</a>\n",
            "</li>\n",
            "</ul>\n",
            "<form action=\"/search/\" class=\"form-inline my-2 my-lg-0 mr-3\" method=\"get\">\n",
            "<input aria-label=\"Search\" class=\"form-control mr-sm-2\" name=\"query\" placeholder=\"Search\" type=\"search\"/>\n",
            "<button class=\"btn btn-danger my-2 my-sm-0\" type=\"submit\">Search</button>\n",
            "</form>\n",
            "<div>\n",
            "<button class=\"btn btn-danger\" data-target=\"#loginModal\" data-toggle=\"modal\" type=\"button\">Login</button>\n",
            "<button class=\"btn btn-danger\" data-target=\"#signupModal\" data-toggle=\"modal\" type=\"button\">SignUp</button>\n",
            "</div>\n",
            "</div>\n",
            "</nav>\n"
          ],
          "name": "stdout"
        }
      ]
    }
  ]
}